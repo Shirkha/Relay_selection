{
  "nbformat": 4,
  "nbformat_minor": 0,
  "metadata": {
    "colab": {
      "name": "Internship_project_problem_solution.ipynb",
      "provenance": [],
      "collapsed_sections": []
    },
    "kernelspec": {
      "name": "python3",
      "display_name": "Python 3"
    },
    "language_info": {
      "name": "python"
    }
  },
  "cells": [
    {
      "cell_type": "code",
      "metadata": {
        "id": "1YFPYzdfLsQD"
      },
      "source": [
        "# import libraries\n",
        "import numpy as np\n",
        "import pandas as pd\n",
        "import matplotlib.pyplot as plt\n",
        "\n",
        "from sklearn.model_selection import train_test_split"
      ],
      "execution_count": 1,
      "outputs": []
    },
    {
      "cell_type": "code",
      "metadata": {
        "colab": {
          "base_uri": "https://localhost:8080/",
          "height": 203
        },
        "id": "joeHYY9qL-p9",
        "outputId": "fbabbd72-996f-4396-9ab9-0589f9bd2197"
      },
      "source": [
        "# load the dataset\n",
        "dataset = pd.read_csv(\"data.csv\")\n",
        "dataset.head()"
      ],
      "execution_count": 2,
      "outputs": [
        {
          "output_type": "execute_result",
          "data": {
            "text/html": [
              "<div>\n",
              "<style scoped>\n",
              "    .dataframe tbody tr th:only-of-type {\n",
              "        vertical-align: middle;\n",
              "    }\n",
              "\n",
              "    .dataframe tbody tr th {\n",
              "        vertical-align: top;\n",
              "    }\n",
              "\n",
              "    .dataframe thead th {\n",
              "        text-align: right;\n",
              "    }\n",
              "</style>\n",
              "<table border=\"1\" class=\"dataframe\">\n",
              "  <thead>\n",
              "    <tr style=\"text-align: right;\">\n",
              "      <th></th>\n",
              "      <th>Dsu1</th>\n",
              "      <th>Dsu2</th>\n",
              "      <th>Dsu3</th>\n",
              "      <th>Dsu4</th>\n",
              "      <th>Dsu5</th>\n",
              "      <th>msu1</th>\n",
              "      <th>msu2</th>\n",
              "      <th>msu3</th>\n",
              "      <th>msu4</th>\n",
              "      <th>msu5</th>\n",
              "      <th>mu1d</th>\n",
              "      <th>mu2d</th>\n",
              "      <th>mu3d</th>\n",
              "      <th>mu4d</th>\n",
              "      <th>mu5d</th>\n",
              "      <th>output</th>\n",
              "    </tr>\n",
              "  </thead>\n",
              "  <tbody>\n",
              "    <tr>\n",
              "      <th>0</th>\n",
              "      <td>0.29967</td>\n",
              "      <td>0.51043</td>\n",
              "      <td>0.502480</td>\n",
              "      <td>0.62400</td>\n",
              "      <td>0.44828</td>\n",
              "      <td>1</td>\n",
              "      <td>3</td>\n",
              "      <td>3</td>\n",
              "      <td>3</td>\n",
              "      <td>3</td>\n",
              "      <td>2</td>\n",
              "      <td>3</td>\n",
              "      <td>3</td>\n",
              "      <td>1</td>\n",
              "      <td>2</td>\n",
              "      <td>3</td>\n",
              "    </tr>\n",
              "    <tr>\n",
              "      <th>1</th>\n",
              "      <td>0.11994</td>\n",
              "      <td>0.59218</td>\n",
              "      <td>0.004863</td>\n",
              "      <td>0.87739</td>\n",
              "      <td>0.34508</td>\n",
              "      <td>2</td>\n",
              "      <td>3</td>\n",
              "      <td>2</td>\n",
              "      <td>3</td>\n",
              "      <td>1</td>\n",
              "      <td>2</td>\n",
              "      <td>3</td>\n",
              "      <td>2</td>\n",
              "      <td>3</td>\n",
              "      <td>3</td>\n",
              "      <td>2</td>\n",
              "    </tr>\n",
              "    <tr>\n",
              "      <th>2</th>\n",
              "      <td>0.90815</td>\n",
              "      <td>0.97858</td>\n",
              "      <td>0.823600</td>\n",
              "      <td>0.65289</td>\n",
              "      <td>0.54421</td>\n",
              "      <td>1</td>\n",
              "      <td>3</td>\n",
              "      <td>3</td>\n",
              "      <td>1</td>\n",
              "      <td>3</td>\n",
              "      <td>3</td>\n",
              "      <td>1</td>\n",
              "      <td>1</td>\n",
              "      <td>2</td>\n",
              "      <td>2</td>\n",
              "      <td>5</td>\n",
              "    </tr>\n",
              "    <tr>\n",
              "      <th>3</th>\n",
              "      <td>0.66691</td>\n",
              "      <td>0.97546</td>\n",
              "      <td>0.536040</td>\n",
              "      <td>0.69907</td>\n",
              "      <td>0.66329</td>\n",
              "      <td>3</td>\n",
              "      <td>2</td>\n",
              "      <td>2</td>\n",
              "      <td>3</td>\n",
              "      <td>2</td>\n",
              "      <td>3</td>\n",
              "      <td>2</td>\n",
              "      <td>1</td>\n",
              "      <td>1</td>\n",
              "      <td>3</td>\n",
              "      <td>1</td>\n",
              "    </tr>\n",
              "    <tr>\n",
              "      <th>4</th>\n",
              "      <td>0.71262</td>\n",
              "      <td>0.33222</td>\n",
              "      <td>0.802000</td>\n",
              "      <td>0.62010</td>\n",
              "      <td>0.42267</td>\n",
              "      <td>2</td>\n",
              "      <td>2</td>\n",
              "      <td>3</td>\n",
              "      <td>3</td>\n",
              "      <td>1</td>\n",
              "      <td>1</td>\n",
              "      <td>1</td>\n",
              "      <td>2</td>\n",
              "      <td>2</td>\n",
              "      <td>1</td>\n",
              "      <td>4</td>\n",
              "    </tr>\n",
              "  </tbody>\n",
              "</table>\n",
              "</div>"
            ],
            "text/plain": [
              "      Dsu1     Dsu2      Dsu3     Dsu4     Dsu5  ...  mu2d  mu3d  mu4d  mu5d  output\n",
              "0  0.29967  0.51043  0.502480  0.62400  0.44828  ...     3     3     1     2       3\n",
              "1  0.11994  0.59218  0.004863  0.87739  0.34508  ...     3     2     3     3       2\n",
              "2  0.90815  0.97858  0.823600  0.65289  0.54421  ...     1     1     2     2       5\n",
              "3  0.66691  0.97546  0.536040  0.69907  0.66329  ...     2     1     1     3       1\n",
              "4  0.71262  0.33222  0.802000  0.62010  0.42267  ...     1     2     2     1       4\n",
              "\n",
              "[5 rows x 16 columns]"
            ]
          },
          "metadata": {
            "tags": []
          },
          "execution_count": 2
        }
      ]
    },
    {
      "cell_type": "code",
      "metadata": {
        "colab": {
          "base_uri": "https://localhost:8080/"
        },
        "id": "W8kO9GZJo9q2",
        "outputId": "f7aa0885-df4c-4cb3-af57-90cba7f6cc07"
      },
      "source": [
        "# checking for null values\n",
        "print(dataset.isnull().sum())"
      ],
      "execution_count": 3,
      "outputs": [
        {
          "output_type": "stream",
          "text": [
            "Dsu1      0\n",
            "Dsu2      0\n",
            "Dsu3      0\n",
            "Dsu4      0\n",
            "Dsu5      0\n",
            "msu1      0\n",
            "msu2      0\n",
            "msu3      0\n",
            "msu4      0\n",
            "msu5      0\n",
            "mu1d      0\n",
            "mu2d      0\n",
            "mu3d      0\n",
            "mu4d      0\n",
            "mu5d      0\n",
            "output    0\n",
            "dtype: int64\n"
          ],
          "name": "stdout"
        }
      ]
    },
    {
      "cell_type": "code",
      "metadata": {
        "colab": {
          "base_uri": "https://localhost:8080/"
        },
        "id": "maC71qBAMEHh",
        "outputId": "bcb5e8a2-d38a-4bcb-ed0b-b28bd670bd8e"
      },
      "source": [
        "# split the data into input and output columns\n",
        "x = dataset.drop(['output'], axis =1)\n",
        "print(x)"
      ],
      "execution_count": 4,
      "outputs": [
        {
          "output_type": "stream",
          "text": [
            "          Dsu1      Dsu2      Dsu3      Dsu4  ...  mu2d  mu3d  mu4d  mu5d\n",
            "0     0.299670  0.510430  0.502480  0.624000  ...     3     3     1     2\n",
            "1     0.119940  0.592180  0.004863  0.877390  ...     3     2     3     3\n",
            "2     0.908150  0.978580  0.823600  0.652890  ...     1     1     2     2\n",
            "3     0.666910  0.975460  0.536040  0.699070  ...     2     1     1     3\n",
            "4     0.712620  0.332220  0.802000  0.620100  ...     1     2     2     1\n",
            "...        ...       ...       ...       ...  ...   ...   ...   ...   ...\n",
            "9995  0.311530  0.045383  0.350390  0.020064  ...     3     3     3     3\n",
            "9996  0.489870  0.540190  0.083073  0.279790  ...     2     3     1     2\n",
            "9997  0.178580  0.828720  0.092745  0.944910  ...     2     3     1     2\n",
            "9998  0.007839  0.024577  0.738700  0.163540  ...     1     1     3     2\n",
            "9999  0.237540  0.400920  0.011692  0.695920  ...     3     1     3     2\n",
            "\n",
            "[10000 rows x 15 columns]\n"
          ],
          "name": "stdout"
        }
      ]
    },
    {
      "cell_type": "code",
      "metadata": {
        "colab": {
          "base_uri": "https://localhost:8080/"
        },
        "id": "1wcAfAytMLfa",
        "outputId": "71e7509a-e5d7-4741-b8a8-2e73490e2fa7"
      },
      "source": [
        "y = dataset['output']\n",
        "print(y)"
      ],
      "execution_count": 5,
      "outputs": [
        {
          "output_type": "stream",
          "text": [
            "0       3\n",
            "1       2\n",
            "2       5\n",
            "3       1\n",
            "4       4\n",
            "       ..\n",
            "9995    3\n",
            "9996    5\n",
            "9997    5\n",
            "9998    4\n",
            "9999    4\n",
            "Name: output, Length: 10000, dtype: int64\n"
          ],
          "name": "stdout"
        }
      ]
    },
    {
      "cell_type": "code",
      "metadata": {
        "colab": {
          "base_uri": "https://localhost:8080/"
        },
        "id": "8ZqCOyHSm8pP",
        "outputId": "549548f8-e4a4-4a53-c7bd-b9ca2b2822fa"
      },
      "source": [
        "# summarize observations by class label\n",
        "from collections import Counter\n",
        "counter = Counter(y)\n",
        "print(counter)"
      ],
      "execution_count": 6,
      "outputs": [
        {
          "output_type": "stream",
          "text": [
            "Counter({5: 2041, 1: 2012, 4: 2002, 2: 1985, 3: 1960})\n"
          ],
          "name": "stdout"
        }
      ]
    },
    {
      "cell_type": "code",
      "metadata": {
        "colab": {
          "base_uri": "https://localhost:8080/"
        },
        "id": "wuM5oZf1mn_y",
        "outputId": "a86d787a-e6a2-4043-982f-860c61f0b26f"
      },
      "source": [
        "# data standardization with sklearn\n",
        "from sklearn.preprocessing import StandardScaler\n",
        "sc = StandardScaler()\n",
        "x = sc.fit_transform(x)\n",
        "print(x)"
      ],
      "execution_count": 7,
      "outputs": [
        {
          "output_type": "stream",
          "text": [
            "[[-0.68680057  0.02890578  0.01471249 ...  1.2245611  -1.2235983\n",
            "  -0.00184039]\n",
            " [-1.31317901  0.31163065 -1.7194965  ...  0.0075455   1.2334264\n",
            "   1.22508629]\n",
            " [ 1.43381788  1.64795959  1.13382434 ... -1.20947011  0.00491405\n",
            "  -0.00184039]\n",
            " ...\n",
            " [-1.10881229  1.12968253 -1.41322502 ...  1.2245611  -1.2235983\n",
            "  -0.00184039]\n",
            " [-1.70386379 -1.65137223  0.83794555 ... -1.20947011  1.2334264\n",
            "  -0.00184039]\n",
            " [-0.90333032 -0.34982451 -1.6956969  ... -1.20947011  1.2334264\n",
            "  -0.00184039]]\n"
          ],
          "name": "stdout"
        }
      ]
    },
    {
      "cell_type": "code",
      "metadata": {
        "colab": {
          "base_uri": "https://localhost:8080/"
        },
        "id": "-QiFWFmdmW19",
        "outputId": "f7810597-f624-4bb1-ff3b-37c34d095e9f"
      },
      "source": [
        "# summarize first few examples\n",
        "for i in range(10):\n",
        "\tprint(x[i], y[i])"
      ],
      "execution_count": 8,
      "outputs": [
        {
          "output_type": "stream",
          "text": [
            "[-0.68680057  0.02890578  0.01471249  0.42817629 -0.17279072 -1.21920587\n",
            "  1.24716831  1.22841937  1.21706512  1.22898907 -0.00195618  1.22272515\n",
            "  1.2245611  -1.2235983  -0.00184039] 3\n",
            "[-1.31317901e+00  3.11630651e-01 -1.71949650e+00  1.30796233e+00\n",
            " -5.32936073e-01  4.87877499e-04  1.24716831e+00 -1.84539715e-03\n",
            "  1.21706512e+00 -1.22800627e+00 -1.95617523e-03  1.22272515e+00\n",
            "  7.54549673e-03  1.23342640e+00  1.22508629e+00] 2\n",
            "[ 1.43381788  1.64795959  1.13382434  0.52848419  0.16198393 -1.21920587\n",
            "  1.24716831  1.22841937 -1.2263501   1.22898907  1.22065334 -1.23674413\n",
            " -1.20947011  0.00491405 -0.00184039] 5\n",
            "[ 5.93070450e-01  1.63716935e+00  1.31669994e-01  6.88824055e-01\n",
            "  5.77546993e-01  1.22018163e+00  1.85521047e-02 -1.84539715e-03\n",
            "  1.21706512e+00  4.91399067e-04  1.22065334e+00 -7.00948746e-03\n",
            " -1.20947011e+00 -1.22359830e+00  1.22508629e+00] 1\n",
            "[ 7.52374731e-01 -5.87417150e-01  1.05854775e+00  4.14635240e-01\n",
            " -2.62164001e-01  4.87877499e-04  1.85521047e-02  1.22841937e+00\n",
            "  1.21706512e+00 -1.22800627e+00 -1.22456569e+00 -1.23674413e+00\n",
            "  7.54549673e-03  4.91404941e-03 -1.22876707e+00] 4\n",
            "[ 1.14270681 -0.75968046 -0.48835115  1.71235351  0.10618234  1.22018163\n",
            "  1.24716831  1.22841937  1.21706512 -1.22800627 -0.00195618 -1.23674413\n",
            " -1.20947011  0.00491405 -0.00184039] 1\n",
            "[ 1.49972127 -0.46253403  0.68369826 -1.71968216 -0.34054447 -1.21920587\n",
            "  1.24716831  1.22841937  1.21706512  1.22898907 -1.22456569  1.22272515\n",
            "  0.0075455  -1.2235983  -1.22876707] 3\n",
            "[-2.99465680e-01 -1.22763768e+00 -1.69896237e+00  1.16871117e-01\n",
            "  4.12166293e-01  4.87877499e-04  1.85521047e-02 -1.84539715e-03\n",
            "  1.21706512e+00  4.91399067e-04  1.22065334e+00 -1.23674413e+00\n",
            "  7.54549673e-03  1.23342640e+00  1.22508629e+00] 4\n",
            "[ 0.04116876  1.28939182  1.36404521 -0.46893535  0.87274753 -1.21920587\n",
            "  0.0185521  -1.23211016 -0.00464249 -1.22800627 -0.00195618  1.22272515\n",
            "  1.2245611   0.00491405 -0.00184039] 4\n",
            "[-0.85527069 -0.84659026  1.37645191 -1.3254933   1.05159878 -1.21920587\n",
            "  1.24716831 -1.23211016 -1.2263501  -1.22800627 -0.00195618  1.22272515\n",
            " -1.20947011  1.2334264  -0.00184039] 2\n"
          ],
          "name": "stdout"
        }
      ]
    },
    {
      "cell_type": "code",
      "metadata": {
        "colab": {
          "base_uri": "https://localhost:8080/",
          "height": 265
        },
        "id": "NABrj7Pxm1QC",
        "outputId": "e988ddf9-6e8b-4e0a-80b0-c0b583cd70c7"
      },
      "source": [
        "# plot the dataset and color them by class label\n",
        "from numpy import where\n",
        "for label, _ in counter.items():\n",
        "\trow_ix = where(y == label)[0]\n",
        "\tplt.scatter(x[row_ix, 0], x[row_ix, 1], label=str(label))\n",
        "plt.legend()\n",
        "plt.show()"
      ],
      "execution_count": 9,
      "outputs": [
        {
          "output_type": "display_data",
          "data": {
            "image/png": "[encoded data removed]",
            "text/plain": [
              "<Figure size 432x288 with 1 Axes>"
            ]
          },
          "metadata": {
            "tags": [],
            "needs_background": "light"
          }
        }
      ]
    },
    {
      "cell_type": "code",
      "metadata": {
        "id": "N8RAYtFtMRZF"
      },
      "source": [
        "# split the data into train and test sets\n",
        "x_train, x_test, y_train, y_test = train_test_split(x,y,test_size = 0.20, random_state=0)"
      ],
      "execution_count": 10,
      "outputs": []
    },
    {
      "cell_type": "code",
      "metadata": {
        "id": "5iIiTddnMXHS"
      },
      "source": [
        "# define model\n",
        "from xgboost import XGBClassifier\n",
        "model = XGBClassifier()"
      ],
      "execution_count": 11,
      "outputs": []
    },
    {
      "cell_type": "code",
      "metadata": {
        "id": "J1nFVyaWMcbJ"
      },
      "source": [
        "# fit and evaluate the model\n",
        "model.fit(x_train,y_train)\n",
        "y_pred = model.predict(x_test)"
      ],
      "execution_count": 12,
      "outputs": []
    },
    {
      "cell_type": "code",
      "metadata": {
        "colab": {
          "base_uri": "https://localhost:8080/"
        },
        "id": "wbD18hoSMh7L",
        "outputId": "6e790b70-5766-49cf-f1c9-6f2e8472ac0c"
      },
      "source": [
        "x_test"
      ],
      "execution_count": 13,
      "outputs": [
        {
          "output_type": "execute_result",
          "data": {
            "text/plain": [
              "array([[ 0.3379257 ,  0.44571314, -0.32058195, ..., -1.20947011,\n",
              "         1.2334264 , -0.00184039],\n",
              "       [ 1.68258488,  0.65843983,  0.74249066, ...,  1.2245611 ,\n",
              "        -1.2235983 , -0.00184039],\n",
              "       [ 0.61649037,  1.43042571,  0.26929371, ...,  0.0075455 ,\n",
              "         1.2334264 , -0.00184039],\n",
              "       ...,\n",
              "       [ 1.39868799, -0.28127885, -1.7332288 , ...,  1.2245611 ,\n",
              "        -1.2235983 ,  1.22508629],\n",
              "       [-0.57492861,  1.61479345,  1.05349447, ...,  1.2245611 ,\n",
              "         1.2334264 , -0.00184039],\n",
              "       [ 1.37132989, -1.27249323, -0.34027235, ...,  0.0075455 ,\n",
              "         1.2334264 , -1.22876707]])"
            ]
          },
          "metadata": {
            "tags": []
          },
          "execution_count": 13
        }
      ]
    },
    {
      "cell_type": "code",
      "metadata": {
        "colab": {
          "base_uri": "https://localhost:8080/"
        },
        "id": "U_PRl7jzMpg2",
        "outputId": "8e24df07-9dab-4a01-838f-94dad5d1b156"
      },
      "source": [
        "y_test"
      ],
      "execution_count": 14,
      "outputs": [
        {
          "output_type": "execute_result",
          "data": {
            "text/plain": [
              "9394    2\n",
              "898     3\n",
              "2398    3\n",
              "5906    2\n",
              "2343    1\n",
              "       ..\n",
              "1037    2\n",
              "2899    3\n",
              "9549    2\n",
              "2740    4\n",
              "6690    1\n",
              "Name: output, Length: 2000, dtype: int64"
            ]
          },
          "metadata": {
            "tags": []
          },
          "execution_count": 14
        }
      ]
    },
    {
      "cell_type": "code",
      "metadata": {
        "colab": {
          "base_uri": "https://localhost:8080/"
        },
        "id": "Dh8Z-zsEMubj",
        "outputId": "1246e509-3b78-44b9-d6e4-d87422bd873d"
      },
      "source": [
        "y_pred"
      ],
      "execution_count": 15,
      "outputs": [
        {
          "output_type": "execute_result",
          "data": {
            "text/plain": [
              "array([2, 3, 3, ..., 2, 4, 3])"
            ]
          },
          "metadata": {
            "tags": []
          },
          "execution_count": 15
        }
      ]
    },
    {
      "cell_type": "code",
      "metadata": {
        "colab": {
          "base_uri": "https://localhost:8080/"
        },
        "id": "otldhociM088",
        "outputId": "7e78179f-367c-4301-874d-cf918f5b444c"
      },
      "source": [
        "score = model.score(x_test,y_test)\n",
        "print('Accuracy:  %.4f' %score)"
      ],
      "execution_count": 16,
      "outputs": [
        {
          "output_type": "stream",
          "text": [
            "Accuracy:  0.9050\n"
          ],
          "name": "stdout"
        }
      ]
    },
    {
      "cell_type": "code",
      "metadata": {
        "colab": {
          "base_uri": "https://localhost:8080/"
        },
        "id": "CqYqRLdyM6NE",
        "outputId": "e4a0e7bb-7f04-423b-997f-38c0865c125c"
      },
      "source": [
        "# confusion matrix\n",
        "from sklearn.metrics import confusion_matrix\n",
        "cm = confusion_matrix(y_test, y_pred)\n",
        "cm"
      ],
      "execution_count": 17,
      "outputs": [
        {
          "output_type": "execute_result",
          "data": {
            "text/plain": [
              "array([[371,  10,  10,   8,  14],\n",
              "       [ 15, 380,   6,  13,  16],\n",
              "       [  9,  11, 355,  11,  10],\n",
              "       [ 11,   5,  14, 325,   3],\n",
              "       [ 11,   3,   5,   5, 379]])"
            ]
          },
          "metadata": {
            "tags": []
          },
          "execution_count": 17
        }
      ]
    },
    {
      "cell_type": "code",
      "metadata": {
        "colab": {
          "base_uri": "https://localhost:8080/",
          "height": 526
        },
        "id": "fRSXLjILNAZJ",
        "outputId": "363a4869-7f1a-4513-a329-14e16737da38"
      },
      "source": [
        "# visualize result using heatmap\n",
        "import seaborn as sns\n",
        "plt.figure(figsize =(10,7))\n",
        "axes = sns.heatmap(cm,square=True,annot=True, fmt='d', cbar=True, cmap=plt.cm.GnBu)\n",
        "class_labels = ['Relay 1','Relay 2','Relay 3','Relay 4','Relay 5']\n",
        "axes.set_xlabel('Model Prediction')\n",
        "axes.set_ylabel('Actual')\n",
        "tick_marks = np.arange(len(class_labels))+0.5\n",
        "axes.set_xticks(tick_marks)\n",
        "axes.set_xticklabels(class_labels,rotation=0)\n",
        "axes.set_yticks(tick_marks)\n",
        "axes.set_yticklabels(class_labels,rotation=0)"
      ],
      "execution_count": 18,
      "outputs": [
        {
          "output_type": "execute_result",
          "data": {
            "text/plain": [
              "[Text(0, 0.5, 'Relay 1'),\n",
              " Text(0, 1.5, 'Relay 2'),\n",
              " Text(0, 2.5, 'Relay 3'),\n",
              " Text(0, 3.5, 'Relay 4'),\n",
              " Text(0, 4.5, 'Relay 5')]"
            ]
          },
          "metadata": {
            "tags": []
          },
          "execution_count": 18
        },
        {
          "output_type": "display_data",
          "data": {
            "image/png": "[encoded data removed]",
            "text/plain": [
              "<Figure size 720x504 with 2 Axes>"
            ]
          },
          "metadata": {
            "tags": [],
            "needs_background": "light"
          }
        }
      ]
    },
    {
      "cell_type": "code",
      "metadata": {
        "colab": {
          "base_uri": "https://localhost:8080/"
        },
        "id": "Edag3EpYNPVm",
        "outputId": "6ea28d84-3884-4519-d363-2d40dcbe4be5"
      },
      "source": [
        "# optimization using GridSearchCV\n",
        "from sklearn.model_selection import GridSearchCV\n",
        "xgb_model = XGBClassifier()\n",
        "optimization_dict = {'max_depth': [2,4,6],\n",
        "                     'n_estimators': [50,100,200]}\n",
        "model = GridSearchCV(xgb_model, optimization_dict,scoring='accuracy',verbose=1)\n",
        "model.fit(x,y)"
      ],
      "execution_count": 19,
      "outputs": [
        {
          "output_type": "stream",
          "text": [
            "Fitting 5 folds for each of 9 candidates, totalling 45 fits\n"
          ],
          "name": "stdout"
        },
        {
          "output_type": "stream",
          "text": [
            "[Parallel(n_jobs=1)]: Using backend SequentialBackend with 1 concurrent workers.\n",
            "[Parallel(n_jobs=1)]: Done  45 out of  45 | elapsed:  3.6min finished\n"
          ],
          "name": "stderr"
        },
        {
          "output_type": "execute_result",
          "data": {
            "text/plain": [
              "GridSearchCV(cv=None, error_score=nan,\n",
              "             estimator=XGBClassifier(base_score=0.5, booster='gbtree',\n",
              "                                     colsample_bylevel=1, colsample_bynode=1,\n",
              "                                     colsample_bytree=1, gamma=0,\n",
              "                                     learning_rate=0.1, max_delta_step=0,\n",
              "                                     max_depth=3, min_child_weight=1,\n",
              "                                     missing=None, n_estimators=100, n_jobs=1,\n",
              "                                     nthread=None, objective='binary:logistic',\n",
              "                                     random_state=0, reg_alpha=0, reg_lambda=1,\n",
              "                                     scale_pos_weight=1, seed=None, silent=None,\n",
              "                                     subsample=1, verbosity=1),\n",
              "             iid='deprecated', n_jobs=None,\n",
              "             param_grid={'max_depth': [2, 4, 6],\n",
              "                         'n_estimators': [50, 100, 200]},\n",
              "             pre_dispatch='2*n_jobs', refit=True, return_train_score=False,\n",
              "             scoring='accuracy', verbose=1)"
            ]
          },
          "metadata": {
            "tags": []
          },
          "execution_count": 19
        }
      ]
    },
    {
      "cell_type": "code",
      "metadata": {
        "colab": {
          "base_uri": "https://localhost:8080/"
        },
        "id": "ZdIIVOhDNTvb",
        "outputId": "55a83551-3bec-434e-b9bd-9419786b5caa"
      },
      "source": [
        "print(model.best_score_)"
      ],
      "execution_count": 20,
      "outputs": [
        {
          "output_type": "stream",
          "text": [
            "0.9257\n"
          ],
          "name": "stdout"
        }
      ]
    },
    {
      "cell_type": "code",
      "metadata": {
        "colab": {
          "base_uri": "https://localhost:8080/"
        },
        "id": "FaCOHeY2NUa5",
        "outputId": "6c7e1664-72ac-430e-f45c-2cfc10d55d82"
      },
      "source": [
        "print(model.best_params_)"
      ],
      "execution_count": 21,
      "outputs": [
        {
          "output_type": "stream",
          "text": [
            "{'max_depth': 4, 'n_estimators': 200}\n"
          ],
          "name": "stdout"
        }
      ]
    },
    {
      "cell_type": "code",
      "metadata": {
        "id": "P26BZGcVNUo_"
      },
      "source": [
        "# KFold cross validation with hyperparameter optimization\n",
        "from sklearn.model_selection import KFold\n",
        "model = XGBClassifier(max_depth=4, n_estimators=200)\n",
        "kfold_validation = KFold(10)"
      ],
      "execution_count": 22,
      "outputs": []
    },
    {
      "cell_type": "code",
      "metadata": {
        "colab": {
          "base_uri": "https://localhost:8080/"
        },
        "id": "8cF4EEowNUzz",
        "outputId": "c645b803-f994-4053-f0b5-5faed7becf14"
      },
      "source": [
        "from sklearn.model_selection import cross_val_score\n",
        "result = cross_val_score(model,x,y,cv=kfold_validation)\n",
        "print(result)\n",
        "print('Average accuracy: %.4f' %np.mean(result))"
      ],
      "execution_count": 23,
      "outputs": [
        {
          "output_type": "stream",
          "text": [
            "[0.936 0.919 0.931 0.918 0.927 0.936 0.938 0.937 0.915 0.926]\n",
            "Average accuracy: 0.9283\n"
          ],
          "name": "stdout"
        }
      ]
    },
    {
      "cell_type": "code",
      "metadata": {
        "id": "IZPFXuV1OCiR"
      },
      "source": [
        "# define the model with  hyperparameter optimization\n",
        "from xgboost import XGBClassifier\n",
        "model = XGBClassifier(max_depth=4, n_estimators=200)"
      ],
      "execution_count": 24,
      "outputs": []
    },
    {
      "cell_type": "code",
      "metadata": {
        "id": "iAUrKdIyOCty"
      },
      "source": [
        "# fit and evaluate the updated model\n",
        "model.fit(x_train,y_train)\n",
        "y_pred = model.predict(x_test)"
      ],
      "execution_count": 25,
      "outputs": []
    },
    {
      "cell_type": "code",
      "metadata": {
        "colab": {
          "base_uri": "https://localhost:8080/"
        },
        "id": "w66iG7-TOC-D",
        "outputId": "4066fbbb-d5c8-4ee0-9db6-23ff21654449"
      },
      "source": [
        "# printing the results\n",
        "score = model.score(x_test,y_test)\n",
        "print('Accuracy of the optimized model:  %.4f' %score)"
      ],
      "execution_count": 26,
      "outputs": [
        {
          "output_type": "stream",
          "text": [
            "Accuracy of the optimized model:  0.9255\n"
          ],
          "name": "stdout"
        }
      ]
    },
    {
      "cell_type": "code",
      "metadata": {
        "colab": {
          "base_uri": "https://localhost:8080/"
        },
        "id": "QK-ZDOE9OQp1",
        "outputId": "6217dbdb-e9a8-4297-a5b9-e88c79f56cb0"
      },
      "source": [
        "# confusion matrix\n",
        "from sklearn.metrics import confusion_matrix\n",
        "cm = confusion_matrix(y_test, y_pred)\n",
        "cm"
      ],
      "execution_count": 27,
      "outputs": [
        {
          "output_type": "execute_result",
          "data": {
            "text/plain": [
              "array([[378,   9,   7,   7,  12],\n",
              "       [  6, 390,   7,  15,  12],\n",
              "       [  6,   7, 365,   7,  11],\n",
              "       [  4,   3,  12, 332,   7],\n",
              "       [  7,   3,   4,   3, 386]])"
            ]
          },
          "metadata": {
            "tags": []
          },
          "execution_count": 27
        }
      ]
    },
    {
      "cell_type": "code",
      "metadata": {
        "colab": {
          "base_uri": "https://localhost:8080/",
          "height": 526
        },
        "id": "8UhBc3pAOXzz",
        "outputId": "e1587839-5374-4c98-f472-6f4532d76eb9"
      },
      "source": [
        "# visualize result using heatmap\n",
        "import seaborn as sns\n",
        "plt.figure(figsize =(10,7))\n",
        "axes = sns.heatmap(cm,square=True,annot=True, fmt='d', cbar=True, cmap=plt.cm.GnBu)\n",
        "class_labels = ['Relay 1','Relay 2','Relay 3','Relay 4','Relay 5']\n",
        "axes.set_xlabel('Model Prediction')\n",
        "axes.set_ylabel('Actual')\n",
        "tick_marks = np.arange(len(class_labels))+0.5\n",
        "axes.set_xticks(tick_marks)\n",
        "axes.set_xticklabels(class_labels,rotation=0)\n",
        "axes.set_yticks(tick_marks)\n",
        "axes.set_yticklabels(class_labels,rotation=0)"
      ],
      "execution_count": 28,
      "outputs": [
        {
          "output_type": "execute_result",
          "data": {
            "text/plain": [
              "[Text(0, 0.5, 'Relay 1'),\n",
              " Text(0, 1.5, 'Relay 2'),\n",
              " Text(0, 2.5, 'Relay 3'),\n",
              " Text(0, 3.5, 'Relay 4'),\n",
              " Text(0, 4.5, 'Relay 5')]"
            ]
          },
          "metadata": {
            "tags": []
          },
          "execution_count": 28
        },
        {
          "output_type": "display_data",
          "data": {
            "image/png": "[encoded data removed]",
            "text/plain": [
              "<Figure size 720x504 with 2 Axes>"
            ]
          },
          "metadata": {
            "tags": [],
            "needs_background": "light"
          }
        }
      ]
    },
    {
      "cell_type": "code",
      "metadata": {
        "colab": {
          "base_uri": "https://localhost:8080/"
        },
        "id": "QlUZCdoStcUO",
        "outputId": "a72092ef-2fb3-4e7b-908c-2a79ac699b2c"
      },
      "source": [
        "from sklearn.metrics import accuracy_score\n",
        "from sklearn.metrics import classification_report\n",
        "print('Accuracy Score: ',accuracy_score(y_test,y_pred))\n",
        "print('Report: ')\n",
        "print(classification_report(y_test,y_pred))"
      ],
      "execution_count": 29,
      "outputs": [
        {
          "output_type": "stream",
          "text": [
            "Accuracy Score:  0.9255\n",
            "Report: \n",
            "              precision    recall  f1-score   support\n",
            "\n",
            "           1       0.94      0.92      0.93       413\n",
            "           2       0.95      0.91      0.93       430\n",
            "           3       0.92      0.92      0.92       396\n",
            "           4       0.91      0.93      0.92       358\n",
            "           5       0.90      0.96      0.93       403\n",
            "\n",
            "    accuracy                           0.93      2000\n",
            "   macro avg       0.93      0.93      0.93      2000\n",
            "weighted avg       0.93      0.93      0.93      2000\n",
            "\n"
          ],
          "name": "stdout"
        }
      ]
    }
  ]
}